{
 "cells": [
  {
   "cell_type": "code",
   "execution_count": 1,
   "id": "31b5b5d0",
   "metadata": {
    "_cell_guid": "b1076dfc-b9ad-4769-8c92-a6c4dae69d19",
    "_uuid": "8f2839f25d086af736a60e9eeb907d3b93b6e0e5",
    "execution": {
     "iopub.execute_input": "2024-12-21T18:32:41.242224Z",
     "iopub.status.busy": "2024-12-21T18:32:41.241885Z",
     "iopub.status.idle": "2024-12-21T18:32:41.257169Z",
     "shell.execute_reply": "2024-12-21T18:32:41.256277Z"
    },
    "papermill": {
     "duration": 0.026205,
     "end_time": "2024-12-21T18:32:41.258608",
     "exception": false,
     "start_time": "2024-12-21T18:32:41.232403",
     "status": "completed"
    },
    "tags": []
   },
   "outputs": [
    {
     "name": "stdout",
     "output_type": "stream",
     "text": [
      "/kaggle/input/twitter-entity-sentiment-analysis/twitter_validation.csv\n",
      "/kaggle/input/twitter-entity-sentiment-analysis/twitter_training.csv\n"
     ]
    }
   ],
   "source": [
    "# This Python 3 environment comes with many helpful analytics libraries installed\n",
    "# It is defined by the kaggle/python Docker image: https://github.com/kaggle/docker-python\n",
    "# For example, here's several helpful packages to load\n",
    "\n",
    "# Input data files are available in the read-only \"../input/\" directory\n",
    "# For example, running this (by clicking run or pressing Shift+Enter) will list all files under the input directory\n",
    "\n",
    "import os\n",
    "for dirname, _, filenames in os.walk('/kaggle/input'):\n",
    "    for filename in filenames:\n",
    "        print(os.path.join(dirname, filename))\n",
    "\n",
    "# You can write up to 20GB to the current directory (/kaggle/working/) that gets preserved as output when you create a version using \"Save & Run All\" \n",
    "# You can also write temporary files to /kaggle/temp/, but they won't be saved outside of the current session"
   ]
  },
  {
   "cell_type": "markdown",
   "id": "5d122691",
   "metadata": {
    "papermill": {
     "duration": 0.005362,
     "end_time": "2024-12-21T18:32:41.269931",
     "exception": false,
     "start_time": "2024-12-21T18:32:41.264569",
     "status": "completed"
    },
    "tags": []
   },
   "source": [
    "# **Important Libraries**"
   ]
  },
  {
   "cell_type": "code",
   "execution_count": 2,
   "id": "bda925ac",
   "metadata": {
    "execution": {
     "iopub.execute_input": "2024-12-21T18:32:41.282417Z",
     "iopub.status.busy": "2024-12-21T18:32:41.282162Z",
     "iopub.status.idle": "2024-12-21T18:32:51.568819Z",
     "shell.execute_reply": "2024-12-21T18:32:51.568065Z"
    },
    "papermill": {
     "duration": 10.294486,
     "end_time": "2024-12-21T18:32:51.570543",
     "exception": false,
     "start_time": "2024-12-21T18:32:41.276057",
     "status": "completed"
    },
    "tags": []
   },
   "outputs": [
    {
     "name": "stdout",
     "output_type": "stream",
     "text": [
      "[nltk_data] Downloading package wordnet to /usr/share/nltk_data...\n",
      "[nltk_data]   Package wordnet is already up-to-date!\n",
      "[nltk_data] Downloading package punkt_tab to /usr/share/nltk_data...\n",
      "[nltk_data]   Unzipping tokenizers/punkt_tab.zip.\n",
      "[nltk_data] Downloading package stopwords to /usr/share/nltk_data...\n",
      "[nltk_data]   Package stopwords is already up-to-date!\n",
      "[nltk_data] Downloading package omw-1.4 to /usr/share/nltk_data...\n",
      "[nltk_data] Downloading package wordnet to /kaggle/working/...\n"
     ]
    }
   ],
   "source": [
    "# Important Libraries\n",
    "import string\n",
    "import numpy as np\n",
    "import re\n",
    "import unicodedata\n",
    "import html\n",
    "import pandas as pd\n",
    "import matplotlib.pyplot as plt\n",
    "import seaborn as sns\n",
    "from sklearn.model_selection import train_test_split\n",
    "from sklearn.metrics import confusion_matrix\n",
    "from tensorflow.keras.preprocessing.text import Tokenizer\n",
    "from tensorflow.keras.utils import to_categorical\n",
    "from tensorflow.keras.preprocessing.sequence import pad_sequences\n",
    "from tensorflow.keras.models import Sequential\n",
    "from tensorflow.keras.layers import SimpleRNN, Embedding,Dense,LSTM, Dropout,GRU,Bidirectional\n",
    "import subprocess\n",
    "from nltk.corpus import stopwords\n",
    "from nltk.stem import WordNetLemmatizer\n",
    "from nltk.tokenize import sent_tokenize,word_tokenize\n",
    "import warnings\n",
    "warnings.filterwarnings('ignore')\n",
    "import nltk\n",
    "nltk.download('wordnet')\n",
    "nltk.download('punkt_tab')\n",
    "nltk.download('stopwords')\n",
    "nltk.download('omw-1.4')\n",
    "# Download and unzip wordnet\n",
    "try:\n",
    "    nltk.data.find('wordnet.zip')\n",
    "except:\n",
    "    nltk.download('wordnet', download_dir='/kaggle/working/')\n",
    "    command = \"unzip /kaggle/working/corpora/wordnet.zip -d /kaggle/working/corpora\"\n",
    "    subprocess.run(command.split())\n",
    "    nltk.data.path.append('/kaggle/working/')"
   ]
  },
  {
   "cell_type": "markdown",
   "id": "15bccc92",
   "metadata": {
    "papermill": {
     "duration": 0.005523,
     "end_time": "2024-12-21T18:32:51.582405",
     "exception": false,
     "start_time": "2024-12-21T18:32:51.576882",
     "status": "completed"
    },
    "tags": []
   },
   "source": [
    "# **Load Dataset**"
   ]
  },
  {
   "cell_type": "code",
   "execution_count": 3,
   "id": "26207c44",
   "metadata": {
    "execution": {
     "iopub.execute_input": "2024-12-21T18:32:51.594811Z",
     "iopub.status.busy": "2024-12-21T18:32:51.594267Z",
     "iopub.status.idle": "2024-12-21T18:32:51.884446Z",
     "shell.execute_reply": "2024-12-21T18:32:51.883332Z"
    },
    "papermill": {
     "duration": 0.297961,
     "end_time": "2024-12-21T18:32:51.885977",
     "exception": false,
     "start_time": "2024-12-21T18:32:51.588016",
     "status": "completed"
    },
    "tags": []
   },
   "outputs": [
    {
     "name": "stdout",
     "output_type": "stream",
     "text": [
      "Rows: 74682,columns: 3\n"
     ]
    },
    {
     "data": {
      "text/html": [
       "<div>\n",
       "<style scoped>\n",
       "    .dataframe tbody tr th:only-of-type {\n",
       "        vertical-align: middle;\n",
       "    }\n",
       "\n",
       "    .dataframe tbody tr th {\n",
       "        vertical-align: top;\n",
       "    }\n",
       "\n",
       "    .dataframe thead th {\n",
       "        text-align: right;\n",
       "    }\n",
       "</style>\n",
       "<table border=\"1\" class=\"dataframe\">\n",
       "  <thead>\n",
       "    <tr style=\"text-align: right;\">\n",
       "      <th></th>\n",
       "      <th>land</th>\n",
       "      <th>Label</th>\n",
       "      <th>Text</th>\n",
       "    </tr>\n",
       "  </thead>\n",
       "  <tbody>\n",
       "    <tr>\n",
       "      <th>0</th>\n",
       "      <td>Borderlands</td>\n",
       "      <td>Positive</td>\n",
       "      <td>im getting on borderlands and i will murder yo...</td>\n",
       "    </tr>\n",
       "    <tr>\n",
       "      <th>1</th>\n",
       "      <td>Borderlands</td>\n",
       "      <td>Positive</td>\n",
       "      <td>I am coming to the borders and I will kill you...</td>\n",
       "    </tr>\n",
       "    <tr>\n",
       "      <th>2</th>\n",
       "      <td>Borderlands</td>\n",
       "      <td>Positive</td>\n",
       "      <td>im getting on borderlands and i will kill you ...</td>\n",
       "    </tr>\n",
       "    <tr>\n",
       "      <th>3</th>\n",
       "      <td>Borderlands</td>\n",
       "      <td>Positive</td>\n",
       "      <td>im coming on borderlands and i will murder you...</td>\n",
       "    </tr>\n",
       "    <tr>\n",
       "      <th>4</th>\n",
       "      <td>Borderlands</td>\n",
       "      <td>Positive</td>\n",
       "      <td>im getting on borderlands 2 and i will murder ...</td>\n",
       "    </tr>\n",
       "  </tbody>\n",
       "</table>\n",
       "</div>"
      ],
      "text/plain": [
       "          land     Label                                               Text\n",
       "0  Borderlands  Positive  im getting on borderlands and i will murder yo...\n",
       "1  Borderlands  Positive  I am coming to the borders and I will kill you...\n",
       "2  Borderlands  Positive  im getting on borderlands and i will kill you ...\n",
       "3  Borderlands  Positive  im coming on borderlands and i will murder you...\n",
       "4  Borderlands  Positive  im getting on borderlands 2 and i will murder ..."
      ]
     },
     "execution_count": 3,
     "metadata": {},
     "output_type": "execute_result"
    }
   ],
   "source": [
    "#Load the data\n",
    "columns = ['id','land','Label','Text']\n",
    "df=pd.read_csv(r'/kaggle/input/twitter-entity-sentiment-analysis/twitter_training.csv',index_col=0,names= columns)\n",
    "\n",
    "# Reset index\n",
    "df.reset_index(drop=True, inplace=True)\n",
    "\n",
    "print(f'Rows: {df.shape[0]},columns: {df.shape[1]}')\n",
    "df.head()"
   ]
  },
  {
   "cell_type": "markdown",
   "id": "125c95e3",
   "metadata": {
    "papermill": {
     "duration": 0.005898,
     "end_time": "2024-12-21T18:32:51.898514",
     "exception": false,
     "start_time": "2024-12-21T18:32:51.892616",
     "status": "completed"
    },
    "tags": []
   },
   "source": [
    "# **EDA**"
   ]
  },
  {
   "cell_type": "code",
   "execution_count": 4,
   "id": "3a91ac42",
   "metadata": {
    "execution": {
     "iopub.execute_input": "2024-12-21T18:32:51.910793Z",
     "iopub.status.busy": "2024-12-21T18:32:51.910512Z",
     "iopub.status.idle": "2024-12-21T18:32:51.934755Z",
     "shell.execute_reply": "2024-12-21T18:32:51.933865Z"
    },
    "papermill": {
     "duration": 0.031814,
     "end_time": "2024-12-21T18:32:51.936035",
     "exception": false,
     "start_time": "2024-12-21T18:32:51.904221",
     "status": "completed"
    },
    "tags": []
   },
   "outputs": [
    {
     "name": "stdout",
     "output_type": "stream",
     "text": [
      "<class 'pandas.core.frame.DataFrame'>\n",
      "RangeIndex: 74682 entries, 0 to 74681\n",
      "Data columns (total 3 columns):\n",
      " #   Column  Non-Null Count  Dtype \n",
      "---  ------  --------------  ----- \n",
      " 0   land    74682 non-null  object\n",
      " 1   Label   74682 non-null  object\n",
      " 2   Text    73996 non-null  object\n",
      "dtypes: object(3)\n",
      "memory usage: 1.7+ MB\n"
     ]
    }
   ],
   "source": [
    "df.info()"
   ]
  },
  {
   "cell_type": "code",
   "execution_count": 5,
   "id": "22a5a3a1",
   "metadata": {
    "execution": {
     "iopub.execute_input": "2024-12-21T18:32:51.949084Z",
     "iopub.status.busy": "2024-12-21T18:32:51.948820Z",
     "iopub.status.idle": "2024-12-21T18:32:51.967161Z",
     "shell.execute_reply": "2024-12-21T18:32:51.966300Z"
    },
    "papermill": {
     "duration": 0.026225,
     "end_time": "2024-12-21T18:32:51.968551",
     "exception": false,
     "start_time": "2024-12-21T18:32:51.942326",
     "status": "completed"
    },
    "tags": []
   },
   "outputs": [],
   "source": [
    "df.dropna(inplace=True)"
   ]
  },
  {
   "cell_type": "code",
   "execution_count": 6,
   "id": "a7e42cc1",
   "metadata": {
    "execution": {
     "iopub.execute_input": "2024-12-21T18:32:51.981153Z",
     "iopub.status.busy": "2024-12-21T18:32:51.980876Z",
     "iopub.status.idle": "2024-12-21T18:32:51.996589Z",
     "shell.execute_reply": "2024-12-21T18:32:51.995875Z"
    },
    "papermill": {
     "duration": 0.02321,
     "end_time": "2024-12-21T18:32:51.997775",
     "exception": false,
     "start_time": "2024-12-21T18:32:51.974565",
     "status": "completed"
    },
    "tags": []
   },
   "outputs": [
    {
     "data": {
      "text/plain": [
       "land     0\n",
       "Label    0\n",
       "Text     0\n",
       "dtype: int64"
      ]
     },
     "execution_count": 6,
     "metadata": {},
     "output_type": "execute_result"
    }
   ],
   "source": [
    "df.isna().sum()"
   ]
  },
  {
   "cell_type": "code",
   "execution_count": 7,
   "id": "7e8a2882",
   "metadata": {
    "execution": {
     "iopub.execute_input": "2024-12-21T18:32:52.010618Z",
     "iopub.status.busy": "2024-12-21T18:32:52.010384Z",
     "iopub.status.idle": "2024-12-21T18:32:52.059463Z",
     "shell.execute_reply": "2024-12-21T18:32:52.058612Z"
    },
    "papermill": {
     "duration": 0.056859,
     "end_time": "2024-12-21T18:32:52.060956",
     "exception": false,
     "start_time": "2024-12-21T18:32:52.004097",
     "status": "completed"
    },
    "tags": []
   },
   "outputs": [
    {
     "data": {
      "text/plain": [
       "3038"
      ]
     },
     "execution_count": 7,
     "metadata": {},
     "output_type": "execute_result"
    }
   ],
   "source": [
    "df.duplicated().sum()"
   ]
  },
  {
   "cell_type": "code",
   "execution_count": 8,
   "id": "c9fb60ef",
   "metadata": {
    "execution": {
     "iopub.execute_input": "2024-12-21T18:32:52.074709Z",
     "iopub.status.busy": "2024-12-21T18:32:52.074425Z",
     "iopub.status.idle": "2024-12-21T18:32:52.117328Z",
     "shell.execute_reply": "2024-12-21T18:32:52.116331Z"
    },
    "papermill": {
     "duration": 0.051196,
     "end_time": "2024-12-21T18:32:52.119011",
     "exception": false,
     "start_time": "2024-12-21T18:32:52.067815",
     "status": "completed"
    },
    "tags": []
   },
   "outputs": [],
   "source": [
    "df.drop_duplicates(inplace=True)"
   ]
  },
  {
   "cell_type": "code",
   "execution_count": 9,
   "id": "7750b84a",
   "metadata": {
    "execution": {
     "iopub.execute_input": "2024-12-21T18:32:52.132755Z",
     "iopub.status.busy": "2024-12-21T18:32:52.132458Z",
     "iopub.status.idle": "2024-12-21T18:32:52.290758Z",
     "shell.execute_reply": "2024-12-21T18:32:52.289551Z"
    },
    "papermill": {
     "duration": 0.16782,
     "end_time": "2024-12-21T18:32:52.293233",
     "exception": false,
     "start_time": "2024-12-21T18:32:52.125413",
     "status": "completed"
    },
    "tags": []
   },
   "outputs": [
    {
     "data": {
      "image/png": "[encoded data removed]",
      "text/plain": [
       "<Figure size 600x600 with 1 Axes>"
      ]
     },
     "metadata": {},
     "output_type": "display_data"
    }
   ],
   "source": [
    "# Overall Label distribution\n",
    "label_counts = df['Label'].value_counts()\n",
    "\n",
    "plt.figure(figsize=(6, 6))\n",
    "label_counts.plot.pie(autopct='%1.1f%%', colors=['#ff9999','#66b3ff','#99ff99'], startangle=90)\n",
    "plt.title(\"Label Distribution\")\n",
    "plt.ylabel(\"\")  # Remove y-axis label\n",
    "plt.show()"
   ]
  },
  {
   "cell_type": "code",
   "execution_count": 10,
   "id": "abf8c541",
   "metadata": {
    "execution": {
     "iopub.execute_input": "2024-12-21T18:32:52.333339Z",
     "iopub.status.busy": "2024-12-21T18:32:52.332583Z",
     "iopub.status.idle": "2024-12-21T18:32:52.925901Z",
     "shell.execute_reply": "2024-12-21T18:32:52.925012Z"
    },
    "papermill": {
     "duration": 0.614914,
     "end_time": "2024-12-21T18:32:52.927707",
     "exception": false,
     "start_time": "2024-12-21T18:32:52.312793",
     "status": "completed"
    },
    "tags": []
   },
   "outputs": [
    {
     "data": {
      "image/png": "[encoded data removed]",
      "text/plain": [
       "<Figure size 800x500 with 1 Axes>"
      ]
     },
     "metadata": {},
     "output_type": "display_data"
    }
   ],
   "source": [
    "# Prepare data for stacked bar chart\n",
    "land_label_counts = df.groupby(['land', 'Label']).size().unstack(fill_value=0)\n",
    "\n",
    "# Plot\n",
    "land_label_counts.plot(kind='bar', stacked=True, figsize=(8, 5), color=['#ff9999','#66b3ff','#99ff99'])\n",
    "plt.title(\"Stacked Bar Chart of Labels by Land\")\n",
    "plt.xlabel(\"Land\")\n",
    "plt.ylabel(\"Count\")\n",
    "plt.legend(title=\"Label\")\n",
    "plt.show()\n"
   ]
  },
  {
   "cell_type": "markdown",
   "id": "e6cc7478",
   "metadata": {
    "papermill": {
     "duration": 0.007617,
     "end_time": "2024-12-21T18:32:52.943473",
     "exception": false,
     "start_time": "2024-12-21T18:32:52.935856",
     "status": "completed"
    },
    "tags": []
   },
   "source": [
    "# **Spliting and Preprocessing**"
   ]
  },
  {
   "cell_type": "code",
   "execution_count": 11,
   "id": "18759185",
   "metadata": {
    "execution": {
     "iopub.execute_input": "2024-12-21T18:32:52.959902Z",
     "iopub.status.busy": "2024-12-21T18:32:52.959635Z",
     "iopub.status.idle": "2024-12-21T18:32:52.967353Z",
     "shell.execute_reply": "2024-12-21T18:32:52.966609Z"
    },
    "papermill": {
     "duration": 0.017493,
     "end_time": "2024-12-21T18:32:52.968734",
     "exception": false,
     "start_time": "2024-12-21T18:32:52.951241",
     "status": "completed"
    },
    "tags": []
   },
   "outputs": [],
   "source": [
    "X=df['Text']\n",
    "y=df['Label'].map({'Neutral': 1, 'Negative': 0,'Positive':2,'Irrelevant':1})"
   ]
  },
  {
   "cell_type": "code",
   "execution_count": 12,
   "id": "4bc8223b",
   "metadata": {
    "execution": {
     "iopub.execute_input": "2024-12-21T18:32:52.985568Z",
     "iopub.status.busy": "2024-12-21T18:32:52.985306Z",
     "iopub.status.idle": "2024-12-21T18:32:52.992347Z",
     "shell.execute_reply": "2024-12-21T18:32:52.991550Z"
    },
    "papermill": {
     "duration": 0.01677,
     "end_time": "2024-12-21T18:32:52.993612",
     "exception": false,
     "start_time": "2024-12-21T18:32:52.976842",
     "status": "completed"
    },
    "tags": []
   },
   "outputs": [],
   "source": [
    "def normalize_text(text):\n",
    "    \"\"\"\n",
    "    Normalize text by removing special characters, non-ASCII characters, punctuation, numbers, \n",
    "    stopwords, emojis, HTML tags, URLs, and emails, and applying lemmatization.\n",
    "    :param text: Input text to be normalized\n",
    "    :return: Normalized text as a string\n",
    "    \"\"\"\n",
    "    stop_words = set(stopwords.words('english'))\n",
    "\n",
    "    # Remove special characters and HTML entities\n",
    "    re1 = re.compile(r'  +')\n",
    "    text = text.lower().replace('#39;', \"'\").replace('amp;', '&').replace('#146;', \"'\") \\\n",
    "        .replace('nbsp;', ' ').replace('#36;', '$').replace('\\\\n', \"\\n\").replace('quot;', \"'\") \\\n",
    "        .replace('<br />', \"\\n\").replace('\\\\\"', '\"').replace('<unk>', 'u_n').replace(' @.@ ', '.') \\\n",
    "        .replace(' @-@ ', '-').replace('\\\\', ' \\\\ ')\n",
    "    text = re1.sub(' ', html.unescape(text))\n",
    "\n",
    "    # Remove HTML tags\n",
    "    text = re.sub(r'<[^>]+>', '', text)\n",
    "\n",
    "    # Remove URLs\n",
    "    text = re.sub(r'http\\S+|www\\.\\S+', '', text)\n",
    "\n",
    "    # Remove emails\n",
    "    text = re.sub(r'\\S+@\\S+\\.\\S+', '', text)\n",
    "\n",
    "    # Remove emojis\n",
    "    text = re.sub(r'[\\U00010000-\\U0010FFFF]', '', text, flags=re.UNICODE)\n",
    "\n",
    "    # Remove non-ASCII characters\n",
    "    text = unicodedata.normalize('NFKD', text).encode('ascii', 'ignore').decode('utf-8', 'ignore')\n",
    "\n",
    "    # Remove punctuation\n",
    "    translator = str.maketrans('', '', string.punctuation)\n",
    "    text = text.translate(translator)\n",
    "\n",
    "    # Replace numbers with empty string\n",
    "    text = re.sub(r'\\d+', '', text)\n",
    "\n",
    "    # Tokenize the text\n",
    "    words = word_tokenize(text)\n",
    "\n",
    "    # Remove stopwords\n",
    "    words = [word for word in words if word not in stop_words]\n",
    "\n",
    "    # Lemmatize words\n",
    "    lemmatizer = WordNetLemmatizer()\n",
    "    words = [lemmatizer.lemmatize(word) for word in words]\n",
    "\n",
    "    # Lemmatize verbs\n",
    "    words = [lemmatizer.lemmatize(word, pos='v') for word in words]\n",
    "\n",
    "    return ' '.join(words)"
   ]
  },
  {
   "cell_type": "code",
   "execution_count": 13,
   "id": "7d9b187a",
   "metadata": {
    "execution": {
     "iopub.execute_input": "2024-12-21T18:32:53.009848Z",
     "iopub.status.busy": "2024-12-21T18:32:53.009613Z",
     "iopub.status.idle": "2024-12-21T18:33:20.739337Z",
     "shell.execute_reply": "2024-12-21T18:33:20.738499Z"
    },
    "papermill": {
     "duration": 27.739326,
     "end_time": "2024-12-21T18:33:20.740696",
     "exception": false,
     "start_time": "2024-12-21T18:32:53.001370",
     "status": "completed"
    },
    "tags": []
   },
   "outputs": [
    {
     "data": {
      "text/plain": [
       "0     im get borderland murder\n",
       "1             come border kill\n",
       "2       im get borderland kill\n",
       "3    im come borderland murder\n",
       "4     im get borderland murder\n",
       "Name: Text, dtype: object"
      ]
     },
     "execution_count": 13,
     "metadata": {},
     "output_type": "execute_result"
    }
   ],
   "source": [
    "# Preprocessing Text\n",
    "X=X.apply(normalize_text)\n",
    "X.head()"
   ]
  },
  {
   "cell_type": "code",
   "execution_count": 14,
   "id": "535684d8",
   "metadata": {
    "execution": {
     "iopub.execute_input": "2024-12-21T18:33:20.757829Z",
     "iopub.status.busy": "2024-12-21T18:33:20.757559Z",
     "iopub.status.idle": "2024-12-21T18:33:20.787714Z",
     "shell.execute_reply": "2024-12-21T18:33:20.786851Z"
    },
    "papermill": {
     "duration": 0.039917,
     "end_time": "2024-12-21T18:33:20.789015",
     "exception": false,
     "start_time": "2024-12-21T18:33:20.749098",
     "status": "completed"
    },
    "tags": []
   },
   "outputs": [
    {
     "data": {
      "text/plain": [
       "((56766,), (14192,), (56766,), (14192,))"
      ]
     },
     "execution_count": 14,
     "metadata": {},
     "output_type": "execute_result"
    }
   ],
   "source": [
    "# Making Training and Testing\n",
    "X_train,X_test,y_train,y_test=train_test_split(X,y,test_size=0.2,random_state=42,stratify=y)\n",
    "X_train.shape, X_test.shape, y_train.shape, y_test.shape"
   ]
  },
  {
   "cell_type": "markdown",
   "id": "5b6d3b4d",
   "metadata": {
    "papermill": {
     "duration": 0.007727,
     "end_time": "2024-12-21T18:33:20.805089",
     "exception": false,
     "start_time": "2024-12-21T18:33:20.797362",
     "status": "completed"
    },
    "tags": []
   },
   "source": [
    "# **GloVe**"
   ]
  },
  {
   "cell_type": "code",
   "execution_count": 15,
   "id": "eada1202",
   "metadata": {
    "execution": {
     "iopub.execute_input": "2024-12-21T18:33:20.822317Z",
     "iopub.status.busy": "2024-12-21T18:33:20.822012Z",
     "iopub.status.idle": "2024-12-21T18:33:20.826860Z",
     "shell.execute_reply": "2024-12-21T18:33:20.826226Z"
    },
    "papermill": {
     "duration": 0.014622,
     "end_time": "2024-12-21T18:33:20.827975",
     "exception": false,
     "start_time": "2024-12-21T18:33:20.813353",
     "status": "completed"
    },
    "tags": []
   },
   "outputs": [
    {
     "data": {
      "text/plain": [
       "array([1, 0, 2])"
      ]
     },
     "execution_count": 15,
     "metadata": {},
     "output_type": "execute_result"
    }
   ],
   "source": [
    "y_train.unique()"
   ]
  },
  {
   "cell_type": "code",
   "execution_count": 16,
   "id": "ece10f96",
   "metadata": {
    "execution": {
     "iopub.execute_input": "2024-12-21T18:33:20.845179Z",
     "iopub.status.busy": "2024-12-21T18:33:20.844908Z",
     "iopub.status.idle": "2024-12-21T18:36:12.642055Z",
     "shell.execute_reply": "2024-12-21T18:36:12.641150Z"
    },
    "papermill": {
     "duration": 171.807353,
     "end_time": "2024-12-21T18:36:12.643723",
     "exception": false,
     "start_time": "2024-12-21T18:33:20.836370",
     "status": "completed"
    },
    "tags": []
   },
   "outputs": [
    {
     "name": "stdout",
     "output_type": "stream",
     "text": [
      "--2024-12-21 18:33:20--  http://nlp.stanford.edu/data/glove.6B.zip\r\n",
      "Resolving nlp.stanford.edu (nlp.stanford.edu)... 171.64.67.140\r\n",
      "Connecting to nlp.stanford.edu (nlp.stanford.edu)|171.64.67.140|:80... connected.\r\n",
      "HTTP request sent, awaiting response... 302 Found\r\n",
      "Location: https://nlp.stanford.edu/data/glove.6B.zip [following]\r\n",
      "--2024-12-21 18:33:21--  https://nlp.stanford.edu/data/glove.6B.zip\r\n",
      "Connecting to nlp.stanford.edu (nlp.stanford.edu)|171.64.67.140|:443... connected.\r\n",
      "HTTP request sent, awaiting response... 301 Moved Permanently\r\n",
      "Location: https://downloads.cs.stanford.edu/nlp/data/glove.6B.zip [following]\r\n",
      "--2024-12-21 18:33:21--  https://downloads.cs.stanford.edu/nlp/data/glove.6B.zip\r\n",
      "Resolving downloads.cs.stanford.edu (downloads.cs.stanford.edu)... 171.64.64.22\r\n",
      "Connecting to downloads.cs.stanford.edu (downloads.cs.stanford.edu)|171.64.64.22|:443... connected.\r\n",
      "HTTP request sent, awaiting response... 200 OK\r\n",
      "Length: 862182613 (822M) [application/zip]\r\n",
      "Saving to: ‘glove.6B.zip’\r\n",
      "\r\n",
      "glove.6B.zip        100%[===================>] 822.24M  4.88MB/s    in 2m 50s  \r\n",
      "\r\n",
      "2024-12-21 18:36:12 (4.84 MB/s) - ‘glove.6B.zip’ saved [862182613/862182613]\r\n",
      "\r\n"
     ]
    }
   ],
   "source": [
    "!wget http://nlp.stanford.edu/data/glove.6B.zip"
   ]
  },
  {
   "cell_type": "code",
   "execution_count": 17,
   "id": "2e85757f",
   "metadata": {
    "execution": {
     "iopub.execute_input": "2024-12-21T18:36:12.731748Z",
     "iopub.status.busy": "2024-12-21T18:36:12.731406Z",
     "iopub.status.idle": "2024-12-21T18:36:32.529364Z",
     "shell.execute_reply": "2024-12-21T18:36:32.528395Z"
    },
    "papermill": {
     "duration": 19.843927,
     "end_time": "2024-12-21T18:36:32.530952",
     "exception": false,
     "start_time": "2024-12-21T18:36:12.687025",
     "status": "completed"
    },
    "tags": []
   },
   "outputs": [
    {
     "name": "stdout",
     "output_type": "stream",
     "text": [
      "Archive:  glove.6B.zip\r\n",
      "  inflating: glove.6B.50d.txt        \r\n",
      "  inflating: glove.6B.100d.txt       \r\n",
      "  inflating: glove.6B.200d.txt       \r\n",
      "  inflating: glove.6B.300d.txt       \r\n"
     ]
    }
   ],
   "source": [
    "!unzip glove.6B.zip"
   ]
  },
  {
   "cell_type": "code",
   "execution_count": 18,
   "id": "e11d1345",
   "metadata": {
    "execution": {
     "iopub.execute_input": "2024-12-21T18:36:32.620266Z",
     "iopub.status.busy": "2024-12-21T18:36:32.619906Z",
     "iopub.status.idle": "2024-12-21T18:36:42.224631Z",
     "shell.execute_reply": "2024-12-21T18:36:42.223466Z"
    },
    "papermill": {
     "duration": 9.651687,
     "end_time": "2024-12-21T18:36:42.226251",
     "exception": false,
     "start_time": "2024-12-21T18:36:32.574564",
     "status": "completed"
    },
    "tags": []
   },
   "outputs": [
    {
     "name": "stdout",
     "output_type": "stream",
     "text": [
      "Loaded 400000 word vectors.\n"
     ]
    }
   ],
   "source": [
    "# Prepare tokenizer\n",
    "t = Tokenizer(num_words=20000, oov_token=\"<OOV>\")\n",
    "t.fit_on_texts(X_train)\n",
    "# Calculate vocabulary size\n",
    "vocab_size = len(t.word_index) + 1\n",
    "max_len=100\n",
    "# Integer encode\n",
    "encoded_train_docs = t.texts_to_sequences(X_train)\n",
    "# Integer encode\n",
    "encoded_test_docs = t.texts_to_sequences(X_test)\n",
    "\n",
    "# Pad documents to a max length of 100 words\n",
    "padded_train_docs = pad_sequences(encoded_train_docs, maxlen=max_len, padding='post')\n",
    "padded_test_docs = pad_sequences(encoded_test_docs, maxlen=max_len, padding='post')\n",
    "\n",
    "# Load the whole embedding into memory\n",
    "embeddings_index = dict()\n",
    "with open('glove.6B.100d.txt', mode='rt', encoding='utf-8') as f:\n",
    "    for line in f:\n",
    "        values = line.split()\n",
    "        word = values[0]\n",
    "        coefs = np.asarray(values[1:], dtype='float32')\n",
    "        embeddings_index[word] = coefs\n",
    "print(f'Loaded {len(embeddings_index)} word vectors.')\n",
    "\n",
    "# Create a weight matrix for words\n",
    "embedding_matrix = np.zeros((vocab_size, 100))\n",
    "for word, i in t.word_index.items():\n",
    "    embedding_vector = embeddings_index.get(word)\n",
    "    if embedding_vector is not None:\n",
    "        embedding_matrix[i] = embedding_vector"
   ]
  },
  {
   "cell_type": "markdown",
   "id": "1ef9c9ce",
   "metadata": {
    "papermill": {
     "duration": 0.047676,
     "end_time": "2024-12-21T18:36:42.324835",
     "exception": false,
     "start_time": "2024-12-21T18:36:42.277159",
     "status": "completed"
    },
    "tags": []
   },
   "source": [
    "# **LSTM Model**"
   ]
  },
  {
   "cell_type": "code",
   "execution_count": 19,
   "id": "da35dbe7",
   "metadata": {
    "execution": {
     "iopub.execute_input": "2024-12-21T18:36:42.422934Z",
     "iopub.status.busy": "2024-12-21T18:36:42.422593Z",
     "iopub.status.idle": "2024-12-21T18:36:43.119181Z",
     "shell.execute_reply": "2024-12-21T18:36:43.118478Z"
    },
    "papermill": {
     "duration": 0.750583,
     "end_time": "2024-12-21T18:36:43.120859",
     "exception": false,
     "start_time": "2024-12-21T18:36:42.370276",
     "status": "completed"
    },
    "tags": []
   },
   "outputs": [],
   "source": [
    "model = Sequential()\n",
    "model.add(Embedding(vocab_size, 100, weights=[embedding_matrix], input_length=max_len, trainable=False))\n",
    "model.add(Bidirectional(LSTM(256, return_sequences=True)))\n",
    "model.add(Dropout(0.5))\n",
    "model.add(Bidirectional(LSTM(128)))\n",
    "model.add(Dropout(0.5))\n",
    "model.add(Dense(3, activation='softmax'))"
   ]
  },
  {
   "cell_type": "code",
   "execution_count": 20,
   "id": "d7f293e9",
   "metadata": {
    "execution": {
     "iopub.execute_input": "2024-12-21T18:36:43.248846Z",
     "iopub.status.busy": "2024-12-21T18:36:43.248550Z",
     "iopub.status.idle": "2024-12-21T18:45:44.044740Z",
     "shell.execute_reply": "2024-12-21T18:45:44.043753Z"
    },
    "papermill": {
     "duration": 540.881984,
     "end_time": "2024-12-21T18:45:44.046440",
     "exception": false,
     "start_time": "2024-12-21T18:36:43.164456",
     "status": "completed"
    },
    "tags": []
   },
   "outputs": [
    {
     "data": {
      "text/html": [
       "<pre style=\"white-space:pre;overflow-x:auto;line-height:normal;font-family:Menlo,'DejaVu Sans Mono',consolas,'Courier New',monospace\"><span style=\"font-weight: bold\">Model: \"sequential\"</span>\n",
       "</pre>\n"
      ],
      "text/plain": [
       "\u001b[1mModel: \"sequential\"\u001b[0m\n"
      ]
     },
     "metadata": {},
     "output_type": "display_data"
    },
    {
     "data": {
      "text/html": [
       "<pre style=\"white-space:pre;overflow-x:auto;line-height:normal;font-family:Menlo,'DejaVu Sans Mono',consolas,'Courier New',monospace\">┏━━━━━━━━━━━━━━━━━━━━━━━━━━━━━━━━━━━━━━┳━━━━━━━━━━━━━━━━━━━━━━━━━━━━━┳━━━━━━━━━━━━━━━━━┓\n",
       "┃<span style=\"font-weight: bold\"> Layer (type)                         </span>┃<span style=\"font-weight: bold\"> Output Shape                </span>┃<span style=\"font-weight: bold\">         Param # </span>┃\n",
       "┡━━━━━━━━━━━━━━━━━━━━━━━━━━━━━━━━━━━━━━╇━━━━━━━━━━━━━━━━━━━━━━━━━━━━━╇━━━━━━━━━━━━━━━━━┩\n",
       "│ embedding (<span style=\"color: #0087ff; text-decoration-color: #0087ff\">Embedding</span>)                │ ?                           │       <span style=\"color: #00af00; text-decoration-color: #00af00\">3,021,400</span> │\n",
       "├──────────────────────────────────────┼─────────────────────────────┼─────────────────┤\n",
       "│ bidirectional (<span style=\"color: #0087ff; text-decoration-color: #0087ff\">Bidirectional</span>)        │ ?                           │     <span style=\"color: #00af00; text-decoration-color: #00af00\">0</span> (unbuilt) │\n",
       "├──────────────────────────────────────┼─────────────────────────────┼─────────────────┤\n",
       "│ dropout (<span style=\"color: #0087ff; text-decoration-color: #0087ff\">Dropout</span>)                    │ ?                           │     <span style=\"color: #00af00; text-decoration-color: #00af00\">0</span> (unbuilt) │\n",
       "├──────────────────────────────────────┼─────────────────────────────┼─────────────────┤\n",
       "│ bidirectional_1 (<span style=\"color: #0087ff; text-decoration-color: #0087ff\">Bidirectional</span>)      │ ?                           │     <span style=\"color: #00af00; text-decoration-color: #00af00\">0</span> (unbuilt) │\n",
       "├──────────────────────────────────────┼─────────────────────────────┼─────────────────┤\n",
       "│ dropout_1 (<span style=\"color: #0087ff; text-decoration-color: #0087ff\">Dropout</span>)                  │ ?                           │     <span style=\"color: #00af00; text-decoration-color: #00af00\">0</span> (unbuilt) │\n",
       "├──────────────────────────────────────┼─────────────────────────────┼─────────────────┤\n",
       "│ dense (<span style=\"color: #0087ff; text-decoration-color: #0087ff\">Dense</span>)                        │ ?                           │     <span style=\"color: #00af00; text-decoration-color: #00af00\">0</span> (unbuilt) │\n",
       "└──────────────────────────────────────┴─────────────────────────────┴─────────────────┘\n",
       "</pre>\n"
      ],
      "text/plain": [
       "┏━━━━━━━━━━━━━━━━━━━━━━━━━━━━━━━━━━━━━━┳━━━━━━━━━━━━━━━━━━━━━━━━━━━━━┳━━━━━━━━━━━━━━━━━┓\n",
       "┃\u001b[1m \u001b[0m\u001b[1mLayer (type)                        \u001b[0m\u001b[1m \u001b[0m┃\u001b[1m \u001b[0m\u001b[1mOutput Shape               \u001b[0m\u001b[1m \u001b[0m┃\u001b[1m \u001b[0m\u001b[1m        Param #\u001b[0m\u001b[1m \u001b[0m┃\n",
       "┡━━━━━━━━━━━━━━━━━━━━━━━━━━━━━━━━━━━━━━╇━━━━━━━━━━━━━━━━━━━━━━━━━━━━━╇━━━━━━━━━━━━━━━━━┩\n",
       "│ embedding (\u001b[38;5;33mEmbedding\u001b[0m)                │ ?                           │       \u001b[38;5;34m3,021,400\u001b[0m │\n",
       "├──────────────────────────────────────┼─────────────────────────────┼─────────────────┤\n",
       "│ bidirectional (\u001b[38;5;33mBidirectional\u001b[0m)        │ ?                           │     \u001b[38;5;34m0\u001b[0m (unbuilt) │\n",
       "├──────────────────────────────────────┼─────────────────────────────┼─────────────────┤\n",
       "│ dropout (\u001b[38;5;33mDropout\u001b[0m)                    │ ?                           │     \u001b[38;5;34m0\u001b[0m (unbuilt) │\n",
       "├──────────────────────────────────────┼─────────────────────────────┼─────────────────┤\n",
       "│ bidirectional_1 (\u001b[38;5;33mBidirectional\u001b[0m)      │ ?                           │     \u001b[38;5;34m0\u001b[0m (unbuilt) │\n",
       "├──────────────────────────────────────┼─────────────────────────────┼─────────────────┤\n",
       "│ dropout_1 (\u001b[38;5;33mDropout\u001b[0m)                  │ ?                           │     \u001b[38;5;34m0\u001b[0m (unbuilt) │\n",
       "├──────────────────────────────────────┼─────────────────────────────┼─────────────────┤\n",
       "│ dense (\u001b[38;5;33mDense\u001b[0m)                        │ ?                           │     \u001b[38;5;34m0\u001b[0m (unbuilt) │\n",
       "└──────────────────────────────────────┴─────────────────────────────┴─────────────────┘\n"
      ]
     },
     "metadata": {},
     "output_type": "display_data"
    },
    {
     "data": {
      "text/html": [
       "<pre style=\"white-space:pre;overflow-x:auto;line-height:normal;font-family:Menlo,'DejaVu Sans Mono',consolas,'Courier New',monospace\"><span style=\"font-weight: bold\"> Total params: </span><span style=\"color: #00af00; text-decoration-color: #00af00\">3,021,400</span> (11.53 MB)\n",
       "</pre>\n"
      ],
      "text/plain": [
       "\u001b[1m Total params: \u001b[0m\u001b[38;5;34m3,021,400\u001b[0m (11.53 MB)\n"
      ]
     },
     "metadata": {},
     "output_type": "display_data"
    },
    {
     "data": {
      "text/html": [
       "<pre style=\"white-space:pre;overflow-x:auto;line-height:normal;font-family:Menlo,'DejaVu Sans Mono',consolas,'Courier New',monospace\"><span style=\"font-weight: bold\"> Trainable params: </span><span style=\"color: #00af00; text-decoration-color: #00af00\">0</span> (0.00 B)\n",
       "</pre>\n"
      ],
      "text/plain": [
       "\u001b[1m Trainable params: \u001b[0m\u001b[38;5;34m0\u001b[0m (0.00 B)\n"
      ]
     },
     "metadata": {},
     "output_type": "display_data"
    },
    {
     "data": {
      "text/html": [
       "<pre style=\"white-space:pre;overflow-x:auto;line-height:normal;font-family:Menlo,'DejaVu Sans Mono',consolas,'Courier New',monospace\"><span style=\"font-weight: bold\"> Non-trainable params: </span><span style=\"color: #00af00; text-decoration-color: #00af00\">3,021,400</span> (11.53 MB)\n",
       "</pre>\n"
      ],
      "text/plain": [
       "\u001b[1m Non-trainable params: \u001b[0m\u001b[38;5;34m3,021,400\u001b[0m (11.53 MB)\n"
      ]
     },
     "metadata": {},
     "output_type": "display_data"
    },
    {
     "name": "stdout",
     "output_type": "stream",
     "text": [
      "Epoch 1/10\n",
      "\u001b[1m1774/1774\u001b[0m \u001b[32m━━━━━━━━━━━━━━━━━━━━\u001b[0m\u001b[37m\u001b[0m \u001b[1m60s\u001b[0m 30ms/step - accuracy: 0.5333 - loss: 0.9382\n",
      "Epoch 2/10\n",
      "\u001b[1m1774/1774\u001b[0m \u001b[32m━━━━━━━━━━━━━━━━━━━━\u001b[0m\u001b[37m\u001b[0m \u001b[1m54s\u001b[0m 30ms/step - accuracy: 0.6494 - loss: 0.7778\n",
      "Epoch 3/10\n",
      "\u001b[1m1774/1774\u001b[0m \u001b[32m━━━━━━━━━━━━━━━━━━━━\u001b[0m\u001b[37m\u001b[0m \u001b[1m54s\u001b[0m 30ms/step - accuracy: 0.7338 - loss: 0.6267\n",
      "Epoch 4/10\n",
      "\u001b[1m1774/1774\u001b[0m \u001b[32m━━━━━━━━━━━━━━━━━━━━\u001b[0m\u001b[37m\u001b[0m \u001b[1m54s\u001b[0m 30ms/step - accuracy: 0.8052 - loss: 0.4746\n",
      "Epoch 5/10\n",
      "\u001b[1m1774/1774\u001b[0m \u001b[32m━━━━━━━━━━━━━━━━━━━━\u001b[0m\u001b[37m\u001b[0m \u001b[1m54s\u001b[0m 30ms/step - accuracy: 0.8588 - loss: 0.3521\n",
      "Epoch 6/10\n",
      "\u001b[1m1774/1774\u001b[0m \u001b[32m━━━━━━━━━━━━━━━━━━━━\u001b[0m\u001b[37m\u001b[0m \u001b[1m54s\u001b[0m 30ms/step - accuracy: 0.8940 - loss: 0.2704\n",
      "Epoch 7/10\n",
      "\u001b[1m1774/1774\u001b[0m \u001b[32m━━━━━━━━━━━━━━━━━━━━\u001b[0m\u001b[37m\u001b[0m \u001b[1m53s\u001b[0m 30ms/step - accuracy: 0.9154 - loss: 0.2193\n",
      "Epoch 8/10\n",
      "\u001b[1m1774/1774\u001b[0m \u001b[32m━━━━━━━━━━━━━━━━━━━━\u001b[0m\u001b[37m\u001b[0m \u001b[1m53s\u001b[0m 30ms/step - accuracy: 0.9277 - loss: 0.1788\n",
      "Epoch 9/10\n",
      "\u001b[1m1774/1774\u001b[0m \u001b[32m━━━━━━━━━━━━━━━━━━━━\u001b[0m\u001b[37m\u001b[0m \u001b[1m53s\u001b[0m 30ms/step - accuracy: 0.9361 - loss: 0.1635\n",
      "Epoch 10/10\n",
      "\u001b[1m1774/1774\u001b[0m \u001b[32m━━━━━━━━━━━━━━━━━━━━\u001b[0m\u001b[37m\u001b[0m \u001b[1m53s\u001b[0m 30ms/step - accuracy: 0.9432 - loss: 0.1430\n"
     ]
    }
   ],
   "source": [
    "model.compile(optimizer='adam', loss='sparse_categorical_crossentropy', metrics=['accuracy'])\n",
    "model.summary()\n",
    "history = model.fit(padded_train_docs, y_train, epochs=10, verbose=1)"
   ]
  },
  {
   "cell_type": "code",
   "execution_count": 21,
   "id": "134d0448",
   "metadata": {
    "execution": {
     "iopub.execute_input": "2024-12-21T18:45:44.961242Z",
     "iopub.status.busy": "2024-12-21T18:45:44.960888Z",
     "iopub.status.idle": "2024-12-21T18:45:56.828799Z",
     "shell.execute_reply": "2024-12-21T18:45:56.827714Z"
    },
    "papermill": {
     "duration": 12.324208,
     "end_time": "2024-12-21T18:45:56.830522",
     "exception": false,
     "start_time": "2024-12-21T18:45:44.506314",
     "status": "completed"
    },
    "tags": []
   },
   "outputs": [
    {
     "name": "stdout",
     "output_type": "stream",
     "text": [
      "\u001b[1m444/444\u001b[0m \u001b[32m━━━━━━━━━━━━━━━━━━━━\u001b[0m\u001b[37m\u001b[0m \u001b[1m6s\u001b[0m 12ms/step\n",
      "Test Accuracy: 0.867319643497467, Loss: 0.44079750776290894\n"
     ]
    }
   ],
   "source": [
    "# Get Predictions\n",
    "y_pred = np.argmax(model.predict(padded_test_docs), axis=1)\n",
    "# Evaluate model\n",
    "loss, accuracy = model.evaluate(padded_test_docs, y_test, verbose=0)\n",
    "print(f'Test Accuracy: {(accuracy)}, Loss: {loss}')"
   ]
  },
  {
   "cell_type": "code",
   "execution_count": 22,
   "id": "fa378f5d",
   "metadata": {
    "execution": {
     "iopub.execute_input": "2024-12-21T18:45:57.828111Z",
     "iopub.status.busy": "2024-12-21T18:45:57.827756Z",
     "iopub.status.idle": "2024-12-21T18:45:58.021884Z",
     "shell.execute_reply": "2024-12-21T18:45:58.020864Z"
    },
    "papermill": {
     "duration": 0.654927,
     "end_time": "2024-12-21T18:45:58.024071",
     "exception": false,
     "start_time": "2024-12-21T18:45:57.369144",
     "status": "completed"
    },
    "tags": []
   },
   "outputs": [
    {
     "data": {
      "image/png": "[encoded data removed]",
      "text/plain": [
       "<Figure size 800x600 with 1 Axes>"
      ]
     },
     "metadata": {},
     "output_type": "display_data"
    }
   ],
   "source": [
    "# Confusion Matrix\n",
    "cm = confusion_matrix(y_test, y_pred)\n",
    "plt.figure(figsize=(8, 6))\n",
    "sns.heatmap(cm, annot=True, fmt='d', cmap='Blues', cbar=False)\n",
    "plt.title('LSTM')\n",
    "plt.ylabel('Actual Labels')\n",
    "plt.xlabel('Predicted Labels')\n",
    "plt.show()"
   ]
  },
  {
   "cell_type": "markdown",
   "id": "8eb529d3",
   "metadata": {
    "papermill": {
     "duration": 0.468402,
     "end_time": "2024-12-21T18:45:59.104775",
     "exception": false,
     "start_time": "2024-12-21T18:45:58.636373",
     "status": "completed"
    },
    "tags": []
   },
   "source": [
    "# **GRU Model**"
   ]
  },
  {
   "cell_type": "code",
   "execution_count": 23,
   "id": "8e8fd9ab",
   "metadata": {
    "execution": {
     "iopub.execute_input": "2024-12-21T18:46:00.077822Z",
     "iopub.status.busy": "2024-12-21T18:46:00.077489Z",
     "iopub.status.idle": "2024-12-21T18:46:00.135320Z",
     "shell.execute_reply": "2024-12-21T18:46:00.134368Z"
    },
    "papermill": {
     "duration": 0.522869,
     "end_time": "2024-12-21T18:46:00.137165",
     "exception": false,
     "start_time": "2024-12-21T18:45:59.614296",
     "status": "completed"
    },
    "tags": []
   },
   "outputs": [],
   "source": [
    "model2 = Sequential()\n",
    "model2.add(Embedding(vocab_size, 100, weights=[embedding_matrix], input_length=max_len, trainable=False))\n",
    "model2.add(Bidirectional(GRU(256, return_sequences=True)))\n",
    "model2.add(Dropout(0.5)) \n",
    "model2.add(Bidirectional(GRU(128)))\n",
    "model2.add(Dropout(0.5)) \n",
    "model2.add(Dense(3, activation='softmax'))"
   ]
  },
  {
   "cell_type": "code",
   "execution_count": 24,
   "id": "08f83ac0",
   "metadata": {
    "execution": {
     "iopub.execute_input": "2024-12-21T18:46:01.097910Z",
     "iopub.status.busy": "2024-12-21T18:46:01.097394Z",
     "iopub.status.idle": "2024-12-21T18:54:29.579366Z",
     "shell.execute_reply": "2024-12-21T18:54:29.578336Z"
    },
    "papermill": {
     "duration": 508.987129,
     "end_time": "2024-12-21T18:54:29.580906",
     "exception": false,
     "start_time": "2024-12-21T18:46:00.593777",
     "status": "completed"
    },
    "tags": []
   },
   "outputs": [
    {
     "data": {
      "text/html": [
       "<pre style=\"white-space:pre;overflow-x:auto;line-height:normal;font-family:Menlo,'DejaVu Sans Mono',consolas,'Courier New',monospace\"><span style=\"font-weight: bold\">Model: \"sequential_1\"</span>\n",
       "</pre>\n"
      ],
      "text/plain": [
       "\u001b[1mModel: \"sequential_1\"\u001b[0m\n"
      ]
     },
     "metadata": {},
     "output_type": "display_data"
    },
    {
     "data": {
      "text/html": [
       "<pre style=\"white-space:pre;overflow-x:auto;line-height:normal;font-family:Menlo,'DejaVu Sans Mono',consolas,'Courier New',monospace\">┏━━━━━━━━━━━━━━━━━━━━━━━━━━━━━━━━━━━━━━┳━━━━━━━━━━━━━━━━━━━━━━━━━━━━━┳━━━━━━━━━━━━━━━━━┓\n",
       "┃<span style=\"font-weight: bold\"> Layer (type)                         </span>┃<span style=\"font-weight: bold\"> Output Shape                </span>┃<span style=\"font-weight: bold\">         Param # </span>┃\n",
       "┡━━━━━━━━━━━━━━━━━━━━━━━━━━━━━━━━━━━━━━╇━━━━━━━━━━━━━━━━━━━━━━━━━━━━━╇━━━━━━━━━━━━━━━━━┩\n",
       "│ embedding_1 (<span style=\"color: #0087ff; text-decoration-color: #0087ff\">Embedding</span>)              │ ?                           │       <span style=\"color: #00af00; text-decoration-color: #00af00\">3,021,400</span> │\n",
       "├──────────────────────────────────────┼─────────────────────────────┼─────────────────┤\n",
       "│ bidirectional_2 (<span style=\"color: #0087ff; text-decoration-color: #0087ff\">Bidirectional</span>)      │ ?                           │     <span style=\"color: #00af00; text-decoration-color: #00af00\">0</span> (unbuilt) │\n",
       "├──────────────────────────────────────┼─────────────────────────────┼─────────────────┤\n",
       "│ dropout_2 (<span style=\"color: #0087ff; text-decoration-color: #0087ff\">Dropout</span>)                  │ ?                           │     <span style=\"color: #00af00; text-decoration-color: #00af00\">0</span> (unbuilt) │\n",
       "├──────────────────────────────────────┼─────────────────────────────┼─────────────────┤\n",
       "│ bidirectional_3 (<span style=\"color: #0087ff; text-decoration-color: #0087ff\">Bidirectional</span>)      │ ?                           │     <span style=\"color: #00af00; text-decoration-color: #00af00\">0</span> (unbuilt) │\n",
       "├──────────────────────────────────────┼─────────────────────────────┼─────────────────┤\n",
       "│ dropout_3 (<span style=\"color: #0087ff; text-decoration-color: #0087ff\">Dropout</span>)                  │ ?                           │     <span style=\"color: #00af00; text-decoration-color: #00af00\">0</span> (unbuilt) │\n",
       "├──────────────────────────────────────┼─────────────────────────────┼─────────────────┤\n",
       "│ dense_1 (<span style=\"color: #0087ff; text-decoration-color: #0087ff\">Dense</span>)                      │ ?                           │     <span style=\"color: #00af00; text-decoration-color: #00af00\">0</span> (unbuilt) │\n",
       "└──────────────────────────────────────┴─────────────────────────────┴─────────────────┘\n",
       "</pre>\n"
      ],
      "text/plain": [
       "┏━━━━━━━━━━━━━━━━━━━━━━━━━━━━━━━━━━━━━━┳━━━━━━━━━━━━━━━━━━━━━━━━━━━━━┳━━━━━━━━━━━━━━━━━┓\n",
       "┃\u001b[1m \u001b[0m\u001b[1mLayer (type)                        \u001b[0m\u001b[1m \u001b[0m┃\u001b[1m \u001b[0m\u001b[1mOutput Shape               \u001b[0m\u001b[1m \u001b[0m┃\u001b[1m \u001b[0m\u001b[1m        Param #\u001b[0m\u001b[1m \u001b[0m┃\n",
       "┡━━━━━━━━━━━━━━━━━━━━━━━━━━━━━━━━━━━━━━╇━━━━━━━━━━━━━━━━━━━━━━━━━━━━━╇━━━━━━━━━━━━━━━━━┩\n",
       "│ embedding_1 (\u001b[38;5;33mEmbedding\u001b[0m)              │ ?                           │       \u001b[38;5;34m3,021,400\u001b[0m │\n",
       "├──────────────────────────────────────┼─────────────────────────────┼─────────────────┤\n",
       "│ bidirectional_2 (\u001b[38;5;33mBidirectional\u001b[0m)      │ ?                           │     \u001b[38;5;34m0\u001b[0m (unbuilt) │\n",
       "├──────────────────────────────────────┼─────────────────────────────┼─────────────────┤\n",
       "│ dropout_2 (\u001b[38;5;33mDropout\u001b[0m)                  │ ?                           │     \u001b[38;5;34m0\u001b[0m (unbuilt) │\n",
       "├──────────────────────────────────────┼─────────────────────────────┼─────────────────┤\n",
       "│ bidirectional_3 (\u001b[38;5;33mBidirectional\u001b[0m)      │ ?                           │     \u001b[38;5;34m0\u001b[0m (unbuilt) │\n",
       "├──────────────────────────────────────┼─────────────────────────────┼─────────────────┤\n",
       "│ dropout_3 (\u001b[38;5;33mDropout\u001b[0m)                  │ ?                           │     \u001b[38;5;34m0\u001b[0m (unbuilt) │\n",
       "├──────────────────────────────────────┼─────────────────────────────┼─────────────────┤\n",
       "│ dense_1 (\u001b[38;5;33mDense\u001b[0m)                      │ ?                           │     \u001b[38;5;34m0\u001b[0m (unbuilt) │\n",
       "└──────────────────────────────────────┴─────────────────────────────┴─────────────────┘\n"
      ]
     },
     "metadata": {},
     "output_type": "display_data"
    },
    {
     "data": {
      "text/html": [
       "<pre style=\"white-space:pre;overflow-x:auto;line-height:normal;font-family:Menlo,'DejaVu Sans Mono',consolas,'Courier New',monospace\"><span style=\"font-weight: bold\"> Total params: </span><span style=\"color: #00af00; text-decoration-color: #00af00\">3,021,400</span> (11.53 MB)\n",
       "</pre>\n"
      ],
      "text/plain": [
       "\u001b[1m Total params: \u001b[0m\u001b[38;5;34m3,021,400\u001b[0m (11.53 MB)\n"
      ]
     },
     "metadata": {},
     "output_type": "display_data"
    },
    {
     "data": {
      "text/html": [
       "<pre style=\"white-space:pre;overflow-x:auto;line-height:normal;font-family:Menlo,'DejaVu Sans Mono',consolas,'Courier New',monospace\"><span style=\"font-weight: bold\"> Trainable params: </span><span style=\"color: #00af00; text-decoration-color: #00af00\">0</span> (0.00 B)\n",
       "</pre>\n"
      ],
      "text/plain": [
       "\u001b[1m Trainable params: \u001b[0m\u001b[38;5;34m0\u001b[0m (0.00 B)\n"
      ]
     },
     "metadata": {},
     "output_type": "display_data"
    },
    {
     "data": {
      "text/html": [
       "<pre style=\"white-space:pre;overflow-x:auto;line-height:normal;font-family:Menlo,'DejaVu Sans Mono',consolas,'Courier New',monospace\"><span style=\"font-weight: bold\"> Non-trainable params: </span><span style=\"color: #00af00; text-decoration-color: #00af00\">3,021,400</span> (11.53 MB)\n",
       "</pre>\n"
      ],
      "text/plain": [
       "\u001b[1m Non-trainable params: \u001b[0m\u001b[38;5;34m3,021,400\u001b[0m (11.53 MB)\n"
      ]
     },
     "metadata": {},
     "output_type": "display_data"
    },
    {
     "name": "stdout",
     "output_type": "stream",
     "text": [
      "Epoch 1/10\n",
      "\u001b[1m1774/1774\u001b[0m \u001b[32m━━━━━━━━━━━━━━━━━━━━\u001b[0m\u001b[37m\u001b[0m \u001b[1m54s\u001b[0m 29ms/step - accuracy: 0.5235 - loss: 0.9517\n",
      "Epoch 2/10\n",
      "\u001b[1m1774/1774\u001b[0m \u001b[32m━━━━━━━━━━━━━━━━━━━━\u001b[0m\u001b[37m\u001b[0m \u001b[1m51s\u001b[0m 29ms/step - accuracy: 0.6516 - loss: 0.7725\n",
      "Epoch 3/10\n",
      "\u001b[1m1774/1774\u001b[0m \u001b[32m━━━━━━━━━━━━━━━━━━━━\u001b[0m\u001b[37m\u001b[0m \u001b[1m50s\u001b[0m 28ms/step - accuracy: 0.7531 - loss: 0.5867\n",
      "Epoch 4/10\n",
      "\u001b[1m1774/1774\u001b[0m \u001b[32m━━━━━━━━━━━━━━━━━━━━\u001b[0m\u001b[37m\u001b[0m \u001b[1m50s\u001b[0m 28ms/step - accuracy: 0.8358 - loss: 0.4135\n",
      "Epoch 5/10\n",
      "\u001b[1m1774/1774\u001b[0m \u001b[32m━━━━━━━━━━━━━━━━━━━━\u001b[0m\u001b[37m\u001b[0m \u001b[1m50s\u001b[0m 28ms/step - accuracy: 0.8888 - loss: 0.2846\n",
      "Epoch 6/10\n",
      "\u001b[1m1774/1774\u001b[0m \u001b[32m━━━━━━━━━━━━━━━━━━━━\u001b[0m\u001b[37m\u001b[0m \u001b[1m51s\u001b[0m 28ms/step - accuracy: 0.9107 - loss: 0.2290\n",
      "Epoch 7/10\n",
      "\u001b[1m1774/1774\u001b[0m \u001b[32m━━━━━━━━━━━━━━━━━━━━\u001b[0m\u001b[37m\u001b[0m \u001b[1m50s\u001b[0m 28ms/step - accuracy: 0.9135 - loss: 0.2258\n",
      "Epoch 8/10\n",
      "\u001b[1m1774/1774\u001b[0m \u001b[32m━━━━━━━━━━━━━━━━━━━━\u001b[0m\u001b[37m\u001b[0m \u001b[1m51s\u001b[0m 29ms/step - accuracy: 0.9370 - loss: 0.1583\n",
      "Epoch 9/10\n",
      "\u001b[1m1774/1774\u001b[0m \u001b[32m━━━━━━━━━━━━━━━━━━━━\u001b[0m\u001b[37m\u001b[0m \u001b[1m51s\u001b[0m 28ms/step - accuracy: 0.9422 - loss: 0.1455\n",
      "Epoch 10/10\n",
      "\u001b[1m1774/1774\u001b[0m \u001b[32m━━━━━━━━━━━━━━━━━━━━\u001b[0m\u001b[37m\u001b[0m \u001b[1m51s\u001b[0m 28ms/step - accuracy: 0.9450 - loss: 0.1379\n"
     ]
    }
   ],
   "source": [
    "model2.compile(optimizer='adam', loss='sparse_categorical_crossentropy', metrics=['accuracy'])\n",
    "model2.summary()\n",
    "history=model2.fit(padded_train_docs, y_train, epochs=10,verbose=1)"
   ]
  },
  {
   "cell_type": "code",
   "execution_count": 25,
   "id": "bb34d5f8",
   "metadata": {
    "execution": {
     "iopub.execute_input": "2024-12-21T18:54:31.414117Z",
     "iopub.status.busy": "2024-12-21T18:54:31.413745Z",
     "iopub.status.idle": "2024-12-21T18:54:42.300785Z",
     "shell.execute_reply": "2024-12-21T18:54:42.299703Z"
    },
    "papermill": {
     "duration": 11.834584,
     "end_time": "2024-12-21T18:54:42.302154",
     "exception": false,
     "start_time": "2024-12-21T18:54:30.467570",
     "status": "completed"
    },
    "tags": []
   },
   "outputs": [
    {
     "name": "stdout",
     "output_type": "stream",
     "text": [
      "\u001b[1m444/444\u001b[0m \u001b[32m━━━━━━━━━━━━━━━━━━━━\u001b[0m\u001b[37m\u001b[0m \u001b[1m5s\u001b[0m 11ms/step\n",
      "Test Accuracy: 0.8439261317253113, Loss: 0.5048288702964783\n"
     ]
    }
   ],
   "source": [
    "# Predict and evaluate\n",
    "y_pred = np.argmax(model2.predict(padded_test_docs), axis=1)\n",
    "# Evaluate model\n",
    "loss, accuracy = model2.evaluate(padded_test_docs, y_test, verbose=0)\n",
    "print(f'Test Accuracy: {(accuracy)}, Loss: {loss}')"
   ]
  },
  {
   "cell_type": "code",
   "execution_count": 26,
   "id": "5477d996",
   "metadata": {
    "execution": {
     "iopub.execute_input": "2024-12-21T18:54:44.118185Z",
     "iopub.status.busy": "2024-12-21T18:54:44.117711Z",
     "iopub.status.idle": "2024-12-21T18:54:44.298717Z",
     "shell.execute_reply": "2024-12-21T18:54:44.297992Z"
    },
    "papermill": {
     "duration": 1.058511,
     "end_time": "2024-12-21T18:54:44.300241",
     "exception": false,
     "start_time": "2024-12-21T18:54:43.241730",
     "status": "completed"
    },
    "tags": []
   },
   "outputs": [
    {
     "data": {
      "image/png": "[encoded data removed]",
      "text/plain": [
       "<Figure size 800x600 with 1 Axes>"
      ]
     },
     "metadata": {},
     "output_type": "display_data"
    }
   ],
   "source": [
    "# Confusion matrix\n",
    "cm = confusion_matrix(y_test, y_pred)\n",
    "plt.figure(figsize=(8, 6))\n",
    "sns.heatmap(cm, annot=True, fmt='d', cmap='Blues', cbar=False)\n",
    "plt.title('GRU ')\n",
    "plt.ylabel('Actual labels')\n",
    "plt.xlabel('Predicted labels')\n",
    "plt.show()"
   ]
  },
  {
   "cell_type": "markdown",
   "id": "4d68a208",
   "metadata": {
    "papermill": {
     "duration": 0.939686,
     "end_time": "2024-12-21T18:54:46.167699",
     "exception": false,
     "start_time": "2024-12-21T18:54:45.228013",
     "status": "completed"
    },
    "tags": []
   },
   "source": [
    "# **RNN Model**"
   ]
  },
  {
   "cell_type": "code",
   "execution_count": 27,
   "id": "64470b30",
   "metadata": {
    "execution": {
     "iopub.execute_input": "2024-12-21T18:54:48.066809Z",
     "iopub.status.busy": "2024-12-21T18:54:48.066473Z",
     "iopub.status.idle": "2024-12-21T18:54:48.132991Z",
     "shell.execute_reply": "2024-12-21T18:54:48.132115Z"
    },
    "papermill": {
     "duration": 1.020459,
     "end_time": "2024-12-21T18:54:48.134567",
     "exception": false,
     "start_time": "2024-12-21T18:54:47.114108",
     "status": "completed"
    },
    "tags": []
   },
   "outputs": [],
   "source": [
    "model3 = Sequential()\n",
    "model3.add(Embedding(vocab_size, 100, weights=[embedding_matrix], input_length=max_len, trainable=False))\n",
    "model3.add(Bidirectional(SimpleRNN(256, return_sequences=True)))\n",
    "model.add(Dropout(0.5)) \n",
    "model3.add(Bidirectional(SimpleRNN(128)))\n",
    "model.add(Dropout(0.5)) \n",
    "model3.add(Dense(4, activation='softmax'))"
   ]
  },
  {
   "cell_type": "code",
   "execution_count": 28,
   "id": "fb0c2a7f",
   "metadata": {
    "execution": {
     "iopub.execute_input": "2024-12-21T18:54:49.955163Z",
     "iopub.status.busy": "2024-12-21T18:54:49.954595Z",
     "iopub.status.idle": "2024-12-21T19:07:28.320404Z",
     "shell.execute_reply": "2024-12-21T19:07:28.319382Z"
    },
    "papermill": {
     "duration": 759.303453,
     "end_time": "2024-12-21T19:07:28.321866",
     "exception": false,
     "start_time": "2024-12-21T18:54:49.018413",
     "status": "completed"
    },
    "tags": []
   },
   "outputs": [
    {
     "data": {
      "text/html": [
       "<pre style=\"white-space:pre;overflow-x:auto;line-height:normal;font-family:Menlo,'DejaVu Sans Mono',consolas,'Courier New',monospace\"><span style=\"font-weight: bold\">Model: \"sequential_2\"</span>\n",
       "</pre>\n"
      ],
      "text/plain": [
       "\u001b[1mModel: \"sequential_2\"\u001b[0m\n"
      ]
     },
     "metadata": {},
     "output_type": "display_data"
    },
    {
     "data": {
      "text/html": [
       "<pre style=\"white-space:pre;overflow-x:auto;line-height:normal;font-family:Menlo,'DejaVu Sans Mono',consolas,'Courier New',monospace\">┏━━━━━━━━━━━━━━━━━━━━━━━━━━━━━━━━━━━━━━┳━━━━━━━━━━━━━━━━━━━━━━━━━━━━━┳━━━━━━━━━━━━━━━━━┓\n",
       "┃<span style=\"font-weight: bold\"> Layer (type)                         </span>┃<span style=\"font-weight: bold\"> Output Shape                </span>┃<span style=\"font-weight: bold\">         Param # </span>┃\n",
       "┡━━━━━━━━━━━━━━━━━━━━━━━━━━━━━━━━━━━━━━╇━━━━━━━━━━━━━━━━━━━━━━━━━━━━━╇━━━━━━━━━━━━━━━━━┩\n",
       "│ embedding_2 (<span style=\"color: #0087ff; text-decoration-color: #0087ff\">Embedding</span>)              │ ?                           │       <span style=\"color: #00af00; text-decoration-color: #00af00\">3,021,400</span> │\n",
       "├──────────────────────────────────────┼─────────────────────────────┼─────────────────┤\n",
       "│ bidirectional_4 (<span style=\"color: #0087ff; text-decoration-color: #0087ff\">Bidirectional</span>)      │ ?                           │     <span style=\"color: #00af00; text-decoration-color: #00af00\">0</span> (unbuilt) │\n",
       "├──────────────────────────────────────┼─────────────────────────────┼─────────────────┤\n",
       "│ bidirectional_5 (<span style=\"color: #0087ff; text-decoration-color: #0087ff\">Bidirectional</span>)      │ ?                           │     <span style=\"color: #00af00; text-decoration-color: #00af00\">0</span> (unbuilt) │\n",
       "├──────────────────────────────────────┼─────────────────────────────┼─────────────────┤\n",
       "│ dense_2 (<span style=\"color: #0087ff; text-decoration-color: #0087ff\">Dense</span>)                      │ ?                           │     <span style=\"color: #00af00; text-decoration-color: #00af00\">0</span> (unbuilt) │\n",
       "└──────────────────────────────────────┴─────────────────────────────┴─────────────────┘\n",
       "</pre>\n"
      ],
      "text/plain": [
       "┏━━━━━━━━━━━━━━━━━━━━━━━━━━━━━━━━━━━━━━┳━━━━━━━━━━━━━━━━━━━━━━━━━━━━━┳━━━━━━━━━━━━━━━━━┓\n",
       "┃\u001b[1m \u001b[0m\u001b[1mLayer (type)                        \u001b[0m\u001b[1m \u001b[0m┃\u001b[1m \u001b[0m\u001b[1mOutput Shape               \u001b[0m\u001b[1m \u001b[0m┃\u001b[1m \u001b[0m\u001b[1m        Param #\u001b[0m\u001b[1m \u001b[0m┃\n",
       "┡━━━━━━━━━━━━━━━━━━━━━━━━━━━━━━━━━━━━━━╇━━━━━━━━━━━━━━━━━━━━━━━━━━━━━╇━━━━━━━━━━━━━━━━━┩\n",
       "│ embedding_2 (\u001b[38;5;33mEmbedding\u001b[0m)              │ ?                           │       \u001b[38;5;34m3,021,400\u001b[0m │\n",
       "├──────────────────────────────────────┼─────────────────────────────┼─────────────────┤\n",
       "│ bidirectional_4 (\u001b[38;5;33mBidirectional\u001b[0m)      │ ?                           │     \u001b[38;5;34m0\u001b[0m (unbuilt) │\n",
       "├──────────────────────────────────────┼─────────────────────────────┼─────────────────┤\n",
       "│ bidirectional_5 (\u001b[38;5;33mBidirectional\u001b[0m)      │ ?                           │     \u001b[38;5;34m0\u001b[0m (unbuilt) │\n",
       "├──────────────────────────────────────┼─────────────────────────────┼─────────────────┤\n",
       "│ dense_2 (\u001b[38;5;33mDense\u001b[0m)                      │ ?                           │     \u001b[38;5;34m0\u001b[0m (unbuilt) │\n",
       "└──────────────────────────────────────┴─────────────────────────────┴─────────────────┘\n"
      ]
     },
     "metadata": {},
     "output_type": "display_data"
    },
    {
     "data": {
      "text/html": [
       "<pre style=\"white-space:pre;overflow-x:auto;line-height:normal;font-family:Menlo,'DejaVu Sans Mono',consolas,'Courier New',monospace\"><span style=\"font-weight: bold\"> Total params: </span><span style=\"color: #00af00; text-decoration-color: #00af00\">3,021,400</span> (11.53 MB)\n",
       "</pre>\n"
      ],
      "text/plain": [
       "\u001b[1m Total params: \u001b[0m\u001b[38;5;34m3,021,400\u001b[0m (11.53 MB)\n"
      ]
     },
     "metadata": {},
     "output_type": "display_data"
    },
    {
     "data": {
      "text/html": [
       "<pre style=\"white-space:pre;overflow-x:auto;line-height:normal;font-family:Menlo,'DejaVu Sans Mono',consolas,'Courier New',monospace\"><span style=\"font-weight: bold\"> Trainable params: </span><span style=\"color: #00af00; text-decoration-color: #00af00\">0</span> (0.00 B)\n",
       "</pre>\n"
      ],
      "text/plain": [
       "\u001b[1m Trainable params: \u001b[0m\u001b[38;5;34m0\u001b[0m (0.00 B)\n"
      ]
     },
     "metadata": {},
     "output_type": "display_data"
    },
    {
     "data": {
      "text/html": [
       "<pre style=\"white-space:pre;overflow-x:auto;line-height:normal;font-family:Menlo,'DejaVu Sans Mono',consolas,'Courier New',monospace\"><span style=\"font-weight: bold\"> Non-trainable params: </span><span style=\"color: #00af00; text-decoration-color: #00af00\">3,021,400</span> (11.53 MB)\n",
       "</pre>\n"
      ],
      "text/plain": [
       "\u001b[1m Non-trainable params: \u001b[0m\u001b[38;5;34m3,021,400\u001b[0m (11.53 MB)\n"
      ]
     },
     "metadata": {},
     "output_type": "display_data"
    },
    {
     "name": "stdout",
     "output_type": "stream",
     "text": [
      "Epoch 1/10\n",
      "\u001b[1m1774/1774\u001b[0m \u001b[32m━━━━━━━━━━━━━━━━━━━━\u001b[0m\u001b[37m\u001b[0m \u001b[1m81s\u001b[0m 43ms/step - accuracy: 0.4562 - loss: 1.0599\n",
      "Epoch 2/10\n",
      "\u001b[1m1774/1774\u001b[0m \u001b[32m━━━━━━━━━━━━━━━━━━━━\u001b[0m\u001b[37m\u001b[0m \u001b[1m75s\u001b[0m 42ms/step - accuracy: 0.5051 - loss: 0.9811\n",
      "Epoch 3/10\n",
      "\u001b[1m1774/1774\u001b[0m \u001b[32m━━━━━━━━━━━━━━━━━━━━\u001b[0m\u001b[37m\u001b[0m \u001b[1m75s\u001b[0m 42ms/step - accuracy: 0.5274 - loss: 0.9456\n",
      "Epoch 4/10\n",
      "\u001b[1m1774/1774\u001b[0m \u001b[32m━━━━━━━━━━━━━━━━━━━━\u001b[0m\u001b[37m\u001b[0m \u001b[1m75s\u001b[0m 42ms/step - accuracy: 0.5455 - loss: 0.9127\n",
      "Epoch 5/10\n",
      "\u001b[1m1774/1774\u001b[0m \u001b[32m━━━━━━━━━━━━━━━━━━━━\u001b[0m\u001b[37m\u001b[0m \u001b[1m75s\u001b[0m 42ms/step - accuracy: 0.5666 - loss: 0.8891\n",
      "Epoch 6/10\n",
      "\u001b[1m1774/1774\u001b[0m \u001b[32m━━━━━━━━━━━━━━━━━━━━\u001b[0m\u001b[37m\u001b[0m \u001b[1m75s\u001b[0m 42ms/step - accuracy: 0.5512 - loss: 0.9141\n",
      "Epoch 7/10\n",
      "\u001b[1m1774/1774\u001b[0m \u001b[32m━━━━━━━━━━━━━━━━━━━━\u001b[0m\u001b[37m\u001b[0m \u001b[1m75s\u001b[0m 42ms/step - accuracy: 0.5565 - loss: 0.9073\n",
      "Epoch 8/10\n",
      "\u001b[1m1774/1774\u001b[0m \u001b[32m━━━━━━━━━━━━━━━━━━━━\u001b[0m\u001b[37m\u001b[0m \u001b[1m75s\u001b[0m 42ms/step - accuracy: 0.5475 - loss: 0.9165\n",
      "Epoch 9/10\n",
      "\u001b[1m1774/1774\u001b[0m \u001b[32m━━━━━━━━━━━━━━━━━━━━\u001b[0m\u001b[37m\u001b[0m \u001b[1m75s\u001b[0m 42ms/step - accuracy: 0.5774 - loss: 0.8826\n",
      "Epoch 10/10\n",
      "\u001b[1m1774/1774\u001b[0m \u001b[32m━━━━━━━━━━━━━━━━━━━━\u001b[0m\u001b[37m\u001b[0m \u001b[1m75s\u001b[0m 42ms/step - accuracy: 0.5833 - loss: 0.8733\n"
     ]
    }
   ],
   "source": [
    "model3.compile(optimizer='adam', loss='sparse_categorical_crossentropy', metrics=['accuracy'])\n",
    "model3.summary()\n",
    "history=model3.fit(padded_train_docs, y_train, epochs=10, verbose=1)"
   ]
  },
  {
   "cell_type": "code",
   "execution_count": 29,
   "id": "f9426d0c",
   "metadata": {
    "execution": {
     "iopub.execute_input": "2024-12-21T19:07:31.067179Z",
     "iopub.status.busy": "2024-12-21T19:07:31.066846Z",
     "iopub.status.idle": "2024-12-21T19:07:50.554992Z",
     "shell.execute_reply": "2024-12-21T19:07:50.554132Z"
    },
    "papermill": {
     "duration": 20.918997,
     "end_time": "2024-12-21T19:07:50.556384",
     "exception": false,
     "start_time": "2024-12-21T19:07:29.637387",
     "status": "completed"
    },
    "tags": []
   },
   "outputs": [
    {
     "name": "stdout",
     "output_type": "stream",
     "text": [
      "\u001b[1m444/444\u001b[0m \u001b[32m━━━━━━━━━━━━━━━━━━━━\u001b[0m\u001b[37m\u001b[0m \u001b[1m10s\u001b[0m 20ms/step\n",
      "Test Accuracy: 0.5701099038124084, Loss: 0.9048336744308472\n"
     ]
    }
   ],
   "source": [
    "# Predict and evaluate\n",
    "y_pred = np.argmax(model3.predict(padded_test_docs), axis=1)\n",
    "# Evaluate model\n",
    "loss, accuracy = model3.evaluate(padded_test_docs, y_test, verbose=0)\n",
    "print(f'Test Accuracy: {(accuracy)}, Loss: {loss}')"
   ]
  },
  {
   "cell_type": "code",
   "execution_count": 30,
   "id": "1c61bd06",
   "metadata": {
    "execution": {
     "iopub.execute_input": "2024-12-21T19:07:53.295715Z",
     "iopub.status.busy": "2024-12-21T19:07:53.295214Z",
     "iopub.status.idle": "2024-12-21T19:07:53.481330Z",
     "shell.execute_reply": "2024-12-21T19:07:53.480478Z"
    },
    "papermill": {
     "duration": 1.624734,
     "end_time": "2024-12-21T19:07:53.482584",
     "exception": false,
     "start_time": "2024-12-21T19:07:51.857850",
     "status": "completed"
    },
    "tags": []
   },
   "outputs": [
    {
     "data": {
      "image/png": "[encoded data removed]",
      "text/plain": [
       "<Figure size 800x600 with 1 Axes>"
      ]
     },
     "metadata": {},
     "output_type": "display_data"
    }
   ],
   "source": [
    "# Confusion matrix\n",
    "cm = confusion_matrix(y_test, y_pred)\n",
    "plt.figure(figsize=(8, 6))\n",
    "sns.heatmap(cm, annot=True, fmt='d', cmap='Blues', cbar=False)\n",
    "plt.title('RNN')\n",
    "plt.ylabel('Actual labels')\n",
    "plt.xlabel('Predicted labels')\n",
    "plt.show()"
   ]
  }
 ],
 "metadata": {
  "kaggle": {
   "accelerator": "gpu",
   "dataSources": [
    {
     "datasetId": 1520310,
     "sourceId": 2510329,
     "sourceType": "datasetVersion"
    }
   ],
   "dockerImageVersionId": 30823,
   "isGpuEnabled": true,
   "isInternetEnabled": true,
   "language": "python",
   "sourceType": "notebook"
  },
  "kernelspec": {
   "display_name": "Python 3",
   "language": "python",
   "name": "python3"
  },
  "language_info": {
   "codemirror_mode": {
    "name": "ipython",
    "version": 3
   },
   "file_extension": ".py",
   "mimetype": "text/x-python",
   "name": "python",
   "nbconvert_exporter": "python",
   "pygments_lexer": "ipython3",
   "version": "3.10.12"
  },
  "papermill": {
   "default_parameters": {},
   "duration": 2119.541743,
   "end_time": "2024-12-21T19:07:58.534685",
   "environment_variables": {},
   "exception": null,
   "input_path": "__notebook__.ipynb",
   "output_path": "__notebook__.ipynb",
   "parameters": {},
   "start_time": "2024-12-21T18:32:38.992942",
   "version": "2.6.0"
  }
 },
 "nbformat": 4,
 "nbformat_minor": 5
}
